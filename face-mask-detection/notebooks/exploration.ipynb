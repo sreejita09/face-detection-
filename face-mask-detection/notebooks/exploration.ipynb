{
 "cells": [
  {
   "cell_type": "markdown",
   "metadata": {},
   "source": [
    "# Face Mask Detection - Exploratory Data Analysis\n",
    "\n",
    "In this notebook, we will perform exploratory data analysis (EDA) on the face mask detection dataset. We will visualize the data, understand its structure, and gain insights that will help in building our machine learning model."
   ]
  },
  {
   "cell_type": "code",
   "execution_count": null,
   "metadata": {},
   "outputs": [],
   "source": [
    "# Import necessary libraries\n",
    "import os\n",
    "import pandas as pd\n",
    "import numpy as np\n",
    "import matplotlib.pyplot as plt\n",
    "import seaborn as sns\n",
    "from PIL import Image\n",
    "\n",
    "# Set the path to the dataset\n",
    "data_dir = '../data/raw/'\n",
    "\n",
    "# Check the number of images in each category\n",
    "mask_count = len(os.listdir(os.path.join(data_dir, 'with_mask')))\n",
    "no_mask_count = len(os.listdir(os.path.join(data_dir, 'without_mask')))\n",
    "\n",
    "# Create a DataFrame to hold the counts\n",
    "data_counts = pd.DataFrame({'Category': ['With Mask', 'Without Mask'], 'Count': [mask_count, no_mask_count]})\n",
    "\n",
    "# Visualize the counts\n",
    "plt.figure(figsize=(8, 5))\n",
    "sns.barplot(x='Category', y='Count', data=data_counts)\n",
    "plt.title('Number of Images in Each Category')\n",
    "plt.show()\n",
    "\n",
    "# Display some sample images\n",
    "def display_sample_images(category, num_images=5):\n",
    "    path = os.path.join(data_dir, category)\n",
    "    images = os.listdir(path)[:num_images]\n",
    "    plt.figure(figsize=(15, 5))\n",
    "    for i, img_name in enumerate(images):\n",
    "        img = Image.open(os.path.join(path, img_name))\n",
    "        plt.subplot(1, num_images, i + 1)\n",
    "        plt.imshow(img)\n",
    "        plt.axis('off')\n",
    "        plt.title(category)\n",
    "    plt.show()\n",
    "\n",
    "# Display sample images with and without masks\n",
    "display_sample_images('with_mask')\n",
    "display_sample_images('without_mask')\n"
   ]
  }
 ],
 "metadata": {
  "kernelspec": {
   "display_name": "Python 3",
   "language": "python",
   "name": "python3"
  },
  "language_info": {
   "codemirror_mode": {
    "name": "ipython",
    "version": 3
   },
   "file_extension": ".py",
   "mimetype": "text/x-python",
   "name": "python",
   "nbconvert_exporter": "python",
   "pygments_lexer": "ipython3",
   "version": "3.8.5"
  }
 },
 "nbformat": 4,
 "nbformat_minor": 4
}